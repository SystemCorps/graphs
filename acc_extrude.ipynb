{
 "cells": [
  {
   "cell_type": "code",
   "execution_count": 56,
   "metadata": {
    "collapsed": true
   },
   "outputs": [],
   "source": [
    "import numpy as np\n",
    "import os\n",
    "import json"
   ]
  },
  {
   "cell_type": "code",
   "execution_count": 2,
   "metadata": {
    "collapsed": false
   },
   "outputs": [
    {
     "name": "stdout",
     "output_type": "stream",
     "text": [
      "[1, 2]\n"
     ]
    }
   ],
   "source": [
    "a = []\n",
    "a.extend([1,2])\n",
    "print(a)"
   ]
  },
  {
   "cell_type": "code",
   "execution_count": 32,
   "metadata": {
    "collapsed": false
   },
   "outputs": [],
   "source": [
    "f = open(\"./v0.txt\", 'r')\n",
    "text = f.readlines()\n",
    "\n",
    "temp = np.zeros((50,1))\n",
    "j = 0\n",
    "for i in range(len(text)):\n",
    "    if 'Accuracy' in text[i]:\n",
    "        temp[j] = float(text[i].replace('\\n', '').split(' = ')[-1])\n",
    "        j=j+1\n",
    "\n",
    "\n",
    "acc0 = temp"
   ]
  },
  {
   "cell_type": "code",
   "execution_count": 33,
   "metadata": {
    "collapsed": true
   },
   "outputs": [],
   "source": [
    "f = open(\"./v1.txt\", 'r')\n",
    "text = f.readlines()\n",
    "\n",
    "temp = np.zeros((50,1))\n",
    "j = 0\n",
    "for i in range(len(text)):\n",
    "    if 'Accuracy' in text[i]:\n",
    "        temp[j] = float(text[i].replace('\\n', '').split(' = ')[-1])\n",
    "        j=j+1\n",
    "\n",
    "\n",
    "acc1 = temp\n",
    "\n",
    "f = open(\"./v2.txt\", 'r')\n",
    "text = f.readlines()\n",
    "\n",
    "temp = np.zeros((50,1))\n",
    "j = 0\n",
    "for i in range(len(text)):\n",
    "    if 'Accuracy' in text[i]:\n",
    "        temp[j] = float(text[i].replace('\\n', '').split(' = ')[-1])\n",
    "        j=j+1\n",
    "\n",
    "\n",
    "acc2 = temp\n",
    "\n",
    "f = open(\"./v3.txt\", 'r')\n",
    "text = f.readlines()\n",
    "\n",
    "temp = np.zeros((50,1))\n",
    "j = 0\n",
    "for i in range(len(text)):\n",
    "    if 'Accuracy' in text[i]:\n",
    "        temp[j] = float(text[i].replace('\\n', '').split(' = ')[-1])\n",
    "        j=j+1\n",
    "\n",
    "\n",
    "acc3 = temp\n",
    "\n",
    "f = open(\"./v4.txt\", 'r')\n",
    "text = f.readlines()\n",
    "\n",
    "temp = np.zeros((50,1))\n",
    "j = 0\n",
    "for i in range(len(text)):\n",
    "    if 'Accuracy' in text[i]:\n",
    "        temp[j] = float(text[i].replace('\\n', '').split(' = ')[-1])\n",
    "        j=j+1\n",
    "\n",
    "\n",
    "acc4 = temp"
   ]
  },
  {
   "cell_type": "code",
   "execution_count": 42,
   "metadata": {
    "collapsed": false,
    "scrolled": true
   },
   "outputs": [
    {
     "name": "stdout",
     "output_type": "stream",
     "text": [
      "[[ 0.7009  0.7712  0.769   0.7433  0.7634]\n",
      " [ 0.7734  0.7969  0.8136  0.779   0.7321]\n",
      " [ 0.7612  0.798   0.8359  0.7734  0.8125]\n",
      " [ 0.8103  0.8705  0.8304  0.8047  0.856 ]\n",
      " [ 0.8058  0.8549  0.8426  0.8025  0.8973]\n",
      " [ 0.8672  0.9275  0.885   0.8527  0.9297]\n",
      " [ 0.8761  0.8895  0.8795  0.8884  0.9241]\n",
      " [ 0.8705  0.9397  0.8783  0.9007  0.9498]\n",
      " [ 0.9174  0.9498  0.904   0.9018  0.9509]\n",
      " [ 0.9319  0.9386  0.9241  0.8917  0.9431]\n",
      " [ 0.923   0.952   0.9252  0.9241  0.9498]\n",
      " [ 0.9386  0.9576  0.904   0.9397  0.9442]\n",
      " [ 0.9509  0.9721  0.9408  0.9386  0.9821]\n",
      " [ 0.9554  0.9654  0.9464  0.9598  0.9364]\n",
      " [ 0.9576  0.9743  0.9632  0.952   0.9576]\n",
      " [ 0.9453  0.9721  0.9654  0.9665  0.9654]\n",
      " [ 0.9688  0.9766  0.9743  0.9643  0.9766]\n",
      " [ 0.9353  0.9732  0.971   0.9565  0.9754]\n",
      " [ 0.9442  0.981   0.9732  0.9743  0.981 ]\n",
      " [ 0.9766  0.971   0.9788  0.9498  0.9688]\n",
      " [ 0.9676  0.9777  0.981   0.9621  0.9643]\n",
      " [ 0.9855  0.9821  0.9821  0.9665  0.9587]\n",
      " [ 0.9688  0.9833  0.9888  0.9721  0.9788]\n",
      " [ 0.9676  0.9788  0.981   0.9665  0.9877]\n",
      " [ 0.971   0.9632  0.9855  0.981   0.9699]\n",
      " [ 0.9721  0.9743  0.971   0.9821  0.9565]\n",
      " [ 0.9688  0.9855  0.9743  0.9754  0.9643]\n",
      " [ 0.9766  0.9821  0.9754  0.9754  0.9688]\n",
      " [ 0.9788  0.9788  0.9788  0.9788  0.9777]\n",
      " [ 0.9576  0.9754  0.9788  0.9821  0.9676]\n",
      " [ 0.971   0.9821  0.9788  0.9766  0.9821]\n",
      " [ 0.9699  0.9855  0.9754  0.9632  0.9799]\n",
      " [ 0.9676  0.9732  0.9754  0.9743  0.9877]\n",
      " [ 0.9777  0.9877  0.9866  0.9676  0.9777]\n",
      " [ 0.9688  0.9877  0.9844  0.9788  0.981 ]\n",
      " [ 0.9721  0.9844  0.9866  0.9788  0.9766]\n",
      " [ 0.9754  0.9855  0.981   0.9821  0.971 ]\n",
      " [ 0.9732  0.9877  0.9788  0.9821  0.971 ]\n",
      " [ 0.9699  0.9833  0.971   0.971   0.9788]\n",
      " [ 0.9688  0.9877  0.9821  0.9866  0.981 ]\n",
      " [ 0.9732  0.9844  0.981   0.9844  0.9855]\n",
      " [ 0.9777  0.9766  0.981   0.981   0.9877]\n",
      " [ 0.9788  0.9877  0.9799  0.9866  0.9877]\n",
      " [ 0.9732  0.9821  0.9833  0.9833  0.9855]\n",
      " [ 0.9799  0.9877  0.9833  0.9844  0.99  ]\n",
      " [ 0.9766  0.99    0.9766  0.9866  0.9676]\n",
      " [ 0.9721  0.99    0.9833  0.9855  0.9799]\n",
      " [ 0.9821  0.9888  0.9821  0.99    0.9721]\n",
      " [ 0.981   0.9933  0.9855  0.9911  0.9877]\n",
      " [ 0.9788  0.99    0.9866  0.9844  0.99  ]]\n"
     ]
    }
   ],
   "source": [
    "val_acc = np.append(acc0, acc1, axis=1)\n",
    "val_acc = np.append(val_acc, acc2, axis=1)\n",
    "val_acc = np.append(val_acc, acc3, axis=1)\n",
    "val_acc = np.append(val_acc, acc4, axis=1)\n",
    "print(val_acc)"
   ]
  },
  {
   "cell_type": "code",
   "execution_count": 49,
   "metadata": {
    "collapsed": false,
    "scrolled": true
   },
   "outputs": [
    {
     "name": "stdout",
     "output_type": "stream",
     "text": [
      "[ 0.7009  0.7321  0.7612  0.8047  0.8025  0.8527  0.8761  0.8705  0.9018\n",
      "  0.8917  0.923   0.904   0.9386  0.9364  0.952   0.9453  0.9643  0.9353\n",
      "  0.9442  0.9498  0.9621  0.9587  0.9688  0.9665  0.9632  0.9565  0.9643\n",
      "  0.9688  0.9777  0.9576  0.971   0.9632  0.9676  0.9676  0.9688  0.9721\n",
      "  0.971   0.971   0.9699  0.9688  0.9732  0.9766  0.9788  0.9732  0.9799\n",
      "  0.9676  0.9721  0.9721  0.981   0.9788]\n",
      "[ 0.74956  0.779    0.7962   0.83438  0.84062  0.89242  0.89152  0.9078\n",
      "  0.92478  0.92588  0.93482  0.93682  0.9569   0.95268  0.96094  0.96294\n",
      "  0.97212  0.96228  0.97074  0.969    0.97054  0.97498  0.97836  0.97632\n",
      "  0.97412  0.9712   0.97366  0.97566  0.97858  0.9723   0.97812  0.97478\n",
      "  0.97564  0.97946  0.98014  0.9797   0.979    0.97856  0.9748   0.98124\n",
      "  0.9817   0.9808   0.98414  0.98148  0.98506  0.97948  0.98216  0.98302\n",
      "  0.98772  0.98596]\n",
      "[ 0.7712  0.8136  0.8359  0.8705  0.8973  0.9297  0.9241  0.9498  0.9509\n",
      "  0.9431  0.952   0.9576  0.9821  0.9654  0.9743  0.9721  0.9766  0.9754\n",
      "  0.981   0.9788  0.981   0.9855  0.9888  0.9877  0.9855  0.9821  0.9855\n",
      "  0.9821  0.9788  0.9821  0.9821  0.9855  0.9877  0.9877  0.9877  0.9866\n",
      "  0.9855  0.9877  0.9833  0.9877  0.9855  0.9877  0.9877  0.9855  0.99\n",
      "  0.99    0.99    0.99    0.9933  0.99  ]\n"
     ]
    }
   ],
   "source": [
    "val_min = np.min(val_acc, axis=1)\n",
    "print(val_min)\n",
    "\n",
    "val_mean = np.mean(val_acc, axis=1)\n",
    "print(val_mean)\n",
    "\n",
    "val_max = np.max(val_acc, axis=1)\n",
    "print(val_max)"
   ]
  },
  {
   "cell_type": "code",
   "execution_count": 60,
   "metadata": {
    "collapsed": true
   },
   "outputs": [],
   "source": [
    "val_res = {}\n",
    "val_res['accuracy'] = val_acc\n",
    "val_res['min'] = val_min\n",
    "val_res['mean'] = val_mean\n",
    "val_res['max'] = val_max\n",
    "val_res['epoch'] = np.linspace(1, 50, num=50, dtype=np.int8)"
   ]
  },
  {
   "cell_type": "code",
   "execution_count": 61,
   "metadata": {
    "collapsed": false,
    "scrolled": false
   },
   "outputs": [
    {
     "name": "stdout",
     "output_type": "stream",
     "text": [
      "[ 1  2  3  4  5  6  7  8  9 10 11 12 13 14 15 16 17 18 19 20 21 22 23 24 25\n",
      " 26 27 28 29 30 31 32 33 34 35 36 37 38 39 40 41 42 43 44 45 46 47 48 49 50]\n"
     ]
    }
   ],
   "source": [
    "print(val_res['epoch'])"
   ]
  },
  {
   "cell_type": "code",
   "execution_count": 65,
   "metadata": {
    "collapsed": true
   },
   "outputs": [],
   "source": [
    "np.savetxt('ResNet_acc.txt', val_acc, delimiter=',')"
   ]
  },
  {
   "cell_type": "code",
   "execution_count": 64,
   "metadata": {
    "collapsed": true
   },
   "outputs": [],
   "source": [
    "np.save(\"./ResNet_valid.npy\", val_res)"
   ]
  }
 ],
 "metadata": {
  "kernelspec": {
   "display_name": "Python [Root]",
   "language": "python",
   "name": "Python [Root]"
  },
  "language_info": {
   "codemirror_mode": {
    "name": "ipython",
    "version": 3
   },
   "file_extension": ".py",
   "mimetype": "text/x-python",
   "name": "python",
   "nbconvert_exporter": "python",
   "pygments_lexer": "ipython3",
   "version": "3.5.2"
  }
 },
 "nbformat": 4,
 "nbformat_minor": 0
}
