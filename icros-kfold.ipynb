{
 "cells": [
  {
   "cell_type": "code",
   "execution_count": 1,
   "metadata": {
    "collapsed": true
   },
   "outputs": [],
   "source": [
    "import numpy as np\n",
    "import matplotlib.pyplot as plt\n",
    "%matplotlib inline\n",
    "\n",
    "from glob import glob\n",
    "import os"
   ]
  },
  {
   "cell_type": "code",
   "execution_count": 2,
   "metadata": {
    "collapsed": false,
    "scrolled": true
   },
   "outputs": [
    {
     "name": "stdout",
     "output_type": "stream",
     "text": [
      "['./icros-kfold/VGG\\\\run_eval-tag-accuracy-0.csv', './icros-kfold/VGG\\\\run_eval-tag-accuracy-1.csv', './icros-kfold/VGG\\\\run_eval-tag-accuracy-2.csv', './icros-kfold/VGG\\\\run_eval-tag-accuracy-3.csv', './icros-kfold/VGG\\\\run_eval-tag-accuracy-4.csv']\n"
     ]
    }
   ],
   "source": [
    "vgg_dir = [y for x in os.walk('./icros-kfold/VGG') for y in glob(os.path.join(x[0], '*accuracy*.csv'))]\n",
    "vgg_dir.sort()\n",
    "print(vgg_dir)"
   ]
  },
  {
   "cell_type": "code",
   "execution_count": 3,
   "metadata": {
    "collapsed": true
   },
   "outputs": [],
   "source": [
    "data = {}\n",
    "for i in range(len(vgg_dir)):\n",
    "    temp = np.genfromtxt(vgg_dir[i], delimiter=',')\n",
    "    temp = temp[1:, 1:]\n",
    "    key_name = vgg_dir[i].split('/')[-2]\n",
    "    data[i] = temp\n",
    "    \n",
    "    "
   ]
  },
  {
   "cell_type": "code",
   "execution_count": 4,
   "metadata": {
    "collapsed": false
   },
   "outputs": [
    {
     "name": "stdout",
     "output_type": "stream",
     "text": [
      "(6, 30)\n"
     ]
    }
   ],
   "source": [
    "new_data = np.zeros((len(data.keys())+1, len(data[0])))\n",
    "print(new_data.shape)\n",
    "\n",
    "for i in range(new_data.shape[0]-1):\n",
    "    if i == 0:\n",
    "        new_data[0,:] = data[0][:,0] * (30/3450)\n",
    "        new_data[1,:] = data[0][:,1]\n",
    "    else:\n",
    "        new_data[i+1,:] = data[i][:,1]"
   ]
  },
  {
   "cell_type": "code",
   "execution_count": 5,
   "metadata": {
    "collapsed": false,
    "scrolled": false
   },
   "outputs": [
    {
     "name": "stdout",
     "output_type": "stream",
     "text": [
      "[[  1.           0.72603827   0.70285088   0.75519127]\n",
      " [  2.           0.72911201   0.70504385   0.75438595]\n",
      " [  3.           0.80340019   0.76973683   0.84649122]\n",
      " [  4.           0.85513229   0.81688595   0.88486844]\n",
      " [  5.           0.8941487    0.88048244   0.90679824]\n",
      " [  6.           0.89852601   0.88157892   0.91118419]\n",
      " [  7.           0.9147426    0.90460527   0.92459017]\n",
      " [  8.           0.92548749   0.90350878   0.94407892]\n",
      " [  9.           0.9259189    0.90131581   0.95614034]\n",
      " [ 10.           0.93425583   0.91885966   0.95394737]\n",
      " [ 11.           0.95244823   0.94188595   0.9725877 ]\n",
      " [ 12.           0.9500374    0.93311405   0.97368419]\n",
      " [ 13.           0.96362669   0.95409834   0.98026317]\n",
      " [ 14.           0.9653782    0.94846493   0.98464912]\n",
      " [ 15.           0.96537244   0.94078946   0.98464912]\n",
      " [ 16.           0.96603251   0.93421054   0.98464912]\n",
      " [ 17.           0.97851883   0.97039473   0.98469943]\n",
      " [ 18.           0.97413647   0.96820176   0.97923499]\n",
      " [ 19.           0.97983391   0.96271932   0.98579234]\n",
      " [ 20.           0.98115616   0.97368419   0.98793858]\n",
      " [ 21.           0.98093183   0.97368419   0.99122804]\n",
      " [ 22.           0.98224691   0.9780702    0.98903507]\n",
      " [ 23.           0.9767666    0.94407892   0.99561405]\n",
      " [ 24.           0.97654513   0.95723683   0.98903507]\n",
      " [ 25.           0.97917529   0.94627196   0.99013156]\n",
      " [ 26.           0.98860079   0.98245615   0.9934426 ]\n",
      " [ 27.           0.98575208   0.97587717   0.99232459]\n",
      " [ 28.           0.98816581   0.98245615   0.99671054]\n",
      " [ 29.           0.98399627   0.96381581   0.99451756]\n",
      " [ 30.           0.9875043    0.97916669   0.9934426 ]]\n",
      "[ 0.01954477  0.01999455  0.03005688  0.02857764  0.01084392  0.0103035\n",
      "  0.00776611  0.01328555  0.01880652  0.01152927  0.01112879  0.01340269\n",
      "  0.00894017  0.0147731   0.01445974  0.01743094  0.00504185  0.00415443\n",
      "  0.00862906  0.00567876  0.00664148  0.00407337  0.01759363  0.01091965\n",
      "  0.01660415  0.00377846  0.00568142  0.0054337   0.01093801  0.00473938]\n"
     ]
    }
   ],
   "source": [
    "vgg_data = np.zeros((new_data.shape[1], 4))\n",
    "vgg_data[:,0] = new_data[0,:]\n",
    "vgg_data[:,1] = np.mean(new_data[1:], axis=0)\n",
    "vgg_data[:,2] = np.min(new_data[1:], axis=0)\n",
    "vgg_data[:,3] = np.max(new_data[1:], axis=0)\n",
    "print(vgg_data)\n",
    "print(np.std(new_data[1:], axis=0))"
   ]
  },
  {
   "cell_type": "code",
   "execution_count": 6,
   "metadata": {
    "collapsed": false,
    "scrolled": true
   },
   "outputs": [
    {
     "name": "stdout",
     "output_type": "stream",
     "text": [
      "['./icros-kfold/AlexNet\\\\run_tensorboard_HS_20180809_Alexnet_hr0_valid0_training_all_50epoch_0_001_dropout_0_75-tag-accuracy_1.csv', './icros-kfold/AlexNet\\\\run_tensorboard_HS_20180809_Alexnet_hr1_valid1_training_all_50epoch_0_001_dropout_0_75-tag-accuracy_1.csv', './icros-kfold/AlexNet\\\\run_tensorboard_HS_20180809_Alexnet_hr2_valid2_training_all_50epoch_0_001_dropout_0_75-tag-accuracy_1.csv', './icros-kfold/AlexNet\\\\run_tensorboard_HS_20180809_Alexnet_hr3_valid3_training_all_50epoch_0_001_dropout_0_75-tag-accuracy_1.csv', './icros-kfold/AlexNet\\\\run_tensorboard_HS_20180809_Alexnet_hr4_valid4_training_all_50epoch_0_001_dropout_0_75-tag-accuracy_1.csv']\n",
      "(6, 100)\n",
      "[[  0.           0.4796875    0.4375       0.5390625 ]\n",
      " [  0.7183908    0.75         0.71875      0.7890625 ]\n",
      " [  1.00574713   0.7546875    0.6953125    0.796875  ]\n",
      " [  1.72413793   0.76875      0.75         0.8046875 ]\n",
      " [  2.01149425   0.7921875    0.75         0.84375   ]\n",
      " [  2.72988506   0.8203125    0.796875     0.8359375 ]\n",
      " [  3.01724138   0.8015625    0.7578125    0.84375   ]\n",
      " [  3.73563218   0.828125     0.8125       0.8515625 ]\n",
      " [  4.02298851   0.825        0.7890625    0.8671875 ]\n",
      " [  4.74137931   0.8375       0.8046875    0.859375  ]\n",
      " [  5.02873563   0.8359375    0.765625     0.875     ]\n",
      " [  5.74712644   0.840625     0.8125       0.859375  ]\n",
      " [  6.03448276   0.8453125    0.8125       0.8828125 ]\n",
      " [  6.75287356   0.85         0.828125     0.875     ]\n",
      " [  7.04022989   0.85         0.765625     0.8828125 ]\n",
      " [  7.75862069   0.890625     0.875        0.9140625 ]\n",
      " [  8.04597701   0.8734375    0.828125     0.8984375 ]\n",
      " [  8.76436782   0.878125     0.8515625    0.9375    ]\n",
      " [  9.05172414   0.853125     0.765625     0.8828125 ]\n",
      " [  9.77011494   0.884375     0.8359375    0.921875  ]\n",
      " [ 10.05747126   0.865625     0.7734375    0.9453125 ]\n",
      " [ 10.77586207   0.8765625    0.796875     0.90625   ]\n",
      " [ 11.06321839   0.840625     0.765625     0.8828125 ]\n",
      " [ 11.7816092    0.890625     0.8359375    0.9609375 ]\n",
      " [ 12.06896552   0.85625      0.796875     0.90625   ]\n",
      " [ 12.78735632   0.884375     0.828125     0.9140625 ]\n",
      " [ 13.07471264   0.884375     0.84375      0.921875  ]\n",
      " [ 13.79310345   0.88125      0.8046875    0.9375    ]\n",
      " [ 14.08045977   0.878125     0.8359375    0.921875  ]\n",
      " [ 14.79885057   0.8640625    0.8046875    0.8984375 ]\n",
      " [ 15.0862069    0.9078125    0.8984375    0.9296875 ]\n",
      " [ 15.8045977    0.93125      0.90625      0.96875   ]\n",
      " [ 16.09195402   0.8625       0.8203125    0.890625  ]\n",
      " [ 16.81034483   0.88125      0.8359375    0.921875  ]\n",
      " [ 17.09770115   0.9375       0.9140625    0.96875   ]\n",
      " [ 17.81609195   0.9          0.8515625    0.9453125 ]\n",
      " [ 18.10344828   0.8796875    0.7734375    0.9140625 ]\n",
      " [ 18.82183908   0.8921875    0.765625     0.9375    ]\n",
      " [ 19.1091954    0.9125       0.8359375    0.953125  ]\n",
      " [ 19.82758621   0.89375      0.8515625    0.953125  ]\n",
      " [ 20.11494253   0.915625     0.8828125    0.9453125 ]\n",
      " [ 20.83333333   0.9125       0.8125       0.953125  ]\n",
      " [ 21.12068966   0.9296875    0.90625      0.953125  ]\n",
      " [ 21.83908046   0.953125     0.921875     0.9765625 ]\n",
      " [ 22.12643678   0.934375     0.8984375    0.96875   ]\n",
      " [ 22.84482759   0.94375      0.90625      0.96875   ]\n",
      " [ 23.13218391   0.9375       0.90625      0.9609375 ]\n",
      " [ 23.85057471   0.93125      0.90625      0.9609375 ]\n",
      " [ 24.13793103   0.909375     0.7890625    0.9609375 ]\n",
      " [ 24.85632184   0.8875       0.8046875    0.9375    ]\n",
      " [ 25.14367816   0.9640625    0.9453125    0.984375  ]\n",
      " [ 25.86206897   0.903125     0.7734375    0.953125  ]\n",
      " [ 26.14942529   0.953125     0.9296875    0.9765625 ]\n",
      " [ 26.86781609   0.928125     0.8359375    0.9609375 ]\n",
      " [ 27.15517241   0.953125     0.8984375    1.        ]\n",
      " [ 27.87356322   0.9484375    0.875        0.9765625 ]\n",
      " [ 28.16091954   0.9421875    0.90625      0.984375  ]\n",
      " [ 28.87931034   0.9484375    0.8828125    0.984375  ]\n",
      " [ 29.16666667   0.9640625    0.9375       0.9765625 ]\n",
      " [ 29.88505747   0.95625      0.921875     0.9921875 ]\n",
      " [ 30.17241379   0.96875      0.921875     0.9921875 ]\n",
      " [ 30.8908046    0.959375     0.921875     0.984375  ]\n",
      " [ 31.17816092   0.95625      0.875        1.        ]\n",
      " [ 31.89655172   0.9734375    0.9609375    1.        ]\n",
      " [ 32.18390805   0.946875     0.8828125    0.984375  ]\n",
      " [ 32.90229885   0.9734375    0.953125     0.9921875 ]\n",
      " [ 33.18965517   0.95625      0.9140625    0.9921875 ]\n",
      " [ 33.90804598   0.9671875    0.953125     0.9921875 ]\n",
      " [ 34.1954023    0.9609375    0.9375       0.9921875 ]\n",
      " [ 34.9137931    0.959375     0.90625      0.9921875 ]\n",
      " [ 35.20114943   0.975        0.9453125    0.9921875 ]\n",
      " [ 35.91954023   0.96875      0.90625      0.9921875 ]\n",
      " [ 36.20689655   0.9890625    0.9765625    1.        ]\n",
      " [ 36.92528736   0.96875      0.953125     0.984375  ]\n",
      " [ 37.21264368   0.9765625    0.953125     1.        ]\n",
      " [ 37.93103448   0.971875     0.8984375    0.9921875 ]\n",
      " [ 38.2183908    0.9703125    0.9375       0.984375  ]\n",
      " [ 38.93678161   0.98125      0.96875      1.        ]\n",
      " [ 39.22413793   0.9828125    0.9609375    1.        ]\n",
      " [ 39.94252874   0.971875     0.9140625    1.        ]\n",
      " [ 40.22988506   0.975        0.953125     0.9921875 ]\n",
      " [ 40.94827586   0.984375     0.9609375    1.        ]\n",
      " [ 41.23563218   0.9765625    0.9453125    1.        ]\n",
      " [ 41.95402299   0.9953125    0.984375     1.        ]\n",
      " [ 42.24137931   0.9875       0.9765625    1.        ]\n",
      " [ 42.95977011   0.9875       0.9765625    1.        ]\n",
      " [ 43.24712644   0.9703125    0.9453125    1.        ]\n",
      " [ 43.96551724   0.9828125    0.953125     1.        ]\n",
      " [ 44.25287356   0.9703125    0.9375       1.        ]\n",
      " [ 44.97126437   0.9515625    0.890625     0.984375  ]\n",
      " [ 45.25862069   0.9796875    0.9609375    0.9921875 ]\n",
      " [ 45.97701149   0.9875       0.953125     1.        ]\n",
      " [ 46.26436782   0.9890625    0.984375     0.9921875 ]\n",
      " [ 46.98275862   0.9921875    0.984375     1.        ]\n",
      " [ 47.27011494   0.9953125    0.984375     1.        ]\n",
      " [ 47.98850575   0.9921875    0.96875      1.        ]\n",
      " [ 48.27586207   0.965625     0.875        0.9921875 ]\n",
      " [ 48.99425287   0.984375     0.9453125    1.        ]\n",
      " [ 49.2816092    0.9890625    0.9609375    1.        ]\n",
      " [ 50.           0.990625     0.9765625    1.        ]]\n"
     ]
    }
   ],
   "source": [
    "alex_dir = [y for x in os.walk('./icros-kfold/AlexNet') for y in glob(os.path.join(x[0], '*accuracy*.csv'))]\n",
    "alex_dir.sort()\n",
    "print(alex_dir)\n",
    "\n",
    "data = {}\n",
    "for i in range(len(alex_dir)):\n",
    "    temp = np.genfromtxt(alex_dir[i], delimiter=',')\n",
    "    temp = temp[1:, 1:]\n",
    "    key_name = alex_dir[i].split('/')[-2]\n",
    "    data[i] = temp\n",
    "\n",
    "    \n",
    "new_data = np.zeros((len(data.keys())+1, len(data[0])))\n",
    "print(new_data.shape)\n",
    "\n",
    "for i in range(new_data.shape[0]-1):\n",
    "    if i == 0:\n",
    "        new_data[0,:] = data[0][:,0] * (50/1392)\n",
    "        new_data[1,:] = data[0][:,1]\n",
    "    else:\n",
    "        new_data[i+1,:] = data[i][:,1]\n",
    "        \n",
    "alex_data = np.zeros((new_data.shape[1], 4))\n",
    "alex_data[:,0] = new_data[0,:]\n",
    "alex_data[:,1] = np.mean(new_data[1:], axis=0)\n",
    "alex_data[:,2] = np.min(new_data[1:], axis=0)\n",
    "alex_data[:,3] = np.max(new_data[1:], axis=0)\n",
    "print(alex_data)"
   ]
  },
  {
   "cell_type": "code",
   "execution_count": 7,
   "metadata": {
    "collapsed": false,
    "scrolled": true
   },
   "outputs": [
    {
     "name": "stdout",
     "output_type": "stream",
     "text": [
      "['./icros-kfold/ResNet\\\\run_tensorboard_HS_20180808_ResNet_50_hr0_valid0_50epoch_0_001-tag-accuracy_1.csv', './icros-kfold/ResNet\\\\run_tensorboard_HS_20180808_ResNet_50_hr1_valid1_50epoch_0_001-tag-accuracy_1.csv', './icros-kfold/ResNet\\\\run_tensorboard_HS_20180808_ResNet_50_hr2_valid2_50epoch_0_001-tag-accuracy_1.csv', './icros-kfold/ResNet\\\\run_tensorboard_HS_20180808_ResNet_50_hr3_valid3_50epoch_0_001-tag-accuracy_1.csv', './icros-kfold/ResNet\\\\run_tensorboard_HS_20180808_ResNet_50_hr4_valid4_50epoch_0_001-tag-accuracy_1.csv']\n",
      "(6, 100)\n",
      "[[  0.           0.59375      0.5078125    0.671875  ]\n",
      " [  0.7183908    0.7984375    0.75         0.8359375 ]\n",
      " [  1.00574713   0.790625     0.7265625    0.8828125 ]\n",
      " [  1.72413793   0.7921875    0.7421875    0.828125  ]\n",
      " [  2.01149425   0.7625       0.6875       0.8046875 ]\n",
      " [  2.72988506   0.790625     0.671875     0.84375   ]\n",
      " [  3.01724138   0.834375     0.7265625    0.875     ]\n",
      " [  3.73563218   0.8125       0.6953125    0.90625   ]\n",
      " [  4.02298851   0.8265625    0.796875     0.890625  ]\n",
      " [  4.74137931   0.8625       0.8125       0.9140625 ]\n",
      " [  5.02873563   0.878125     0.84375      0.9765625 ]\n",
      " [  5.74712644   0.8921875    0.8203125    0.96875   ]\n",
      " [  6.03448276   0.8984375    0.84375      0.953125  ]\n",
      " [  6.75287356   0.8984375    0.828125     0.9453125 ]\n",
      " [  7.04022989   0.8828125    0.8046875    0.9609375 ]\n",
      " [  7.75862069   0.9078125    0.8359375    0.96875   ]\n",
      " [  8.04597701   0.94375      0.921875     0.9921875 ]\n",
      " [  8.76436782   0.9484375    0.921875     0.984375  ]\n",
      " [  9.05172414   0.95         0.90625      0.984375  ]\n",
      " [  9.77011494   0.959375     0.9140625    1.        ]\n",
      " [ 10.05747126   0.9515625    0.8984375    1.        ]\n",
      " [ 10.77586207   0.9640625    0.9609375    0.96875   ]\n",
      " [ 11.06321839   0.9703125    0.953125     1.        ]\n",
      " [ 11.7816092    0.9765625    0.953125     1.        ]\n",
      " [ 12.06896552   0.959375     0.890625     1.        ]\n",
      " [ 12.78735632   0.9765625    0.921875     0.9921875 ]\n",
      " [ 13.07471264   0.96875      0.953125     1.        ]\n",
      " [ 13.79310345   0.9890625    0.984375     1.        ]\n",
      " [ 14.08045977   0.9859375    0.9609375    1.        ]\n",
      " [ 14.79885057   0.9890625    0.9765625    0.9921875 ]\n",
      " [ 15.0862069    0.996875     0.9921875    1.        ]\n",
      " [ 15.8045977    0.990625     0.984375     1.        ]\n",
      " [ 16.09195402   0.9875       0.96875      1.        ]\n",
      " [ 16.81034483   0.99375      0.9921875    1.        ]\n",
      " [ 17.09770115   0.9953125    0.984375     1.        ]\n",
      " [ 17.81609195   0.9921875    0.9765625    1.        ]\n",
      " [ 18.10344828   0.984375     0.9609375    1.        ]\n",
      " [ 18.82183908   0.9921875    0.9609375    1.        ]\n",
      " [ 19.1091954    0.9984375    0.9921875    1.        ]\n",
      " [ 19.82758621   0.9953125    0.9921875    1.        ]\n",
      " [ 20.11494253   0.996875     0.9921875    1.        ]\n",
      " [ 20.83333333   0.99375      0.984375     1.        ]\n",
      " [ 21.12068966   0.9953125    0.9921875    1.        ]\n",
      " [ 21.83908046   0.996875     0.984375     1.        ]\n",
      " [ 22.12643678   0.996875     0.9921875    1.        ]\n",
      " [ 22.84482759   1.           1.           1.        ]\n",
      " [ 23.13218391   0.9984375    0.9921875    1.        ]\n",
      " [ 23.85057471   0.996875     0.984375     1.        ]\n",
      " [ 24.13793103   1.           1.           1.        ]\n",
      " [ 24.85632184   0.9984375    0.9921875    1.        ]\n",
      " [ 25.14367816   0.9953125    0.9921875    1.        ]\n",
      " [ 25.86206897   0.9921875    0.9765625    1.        ]\n",
      " [ 26.14942529   0.996875     0.984375     1.        ]\n",
      " [ 26.86781609   0.9984375    0.9921875    1.        ]\n",
      " [ 27.15517241   1.           1.           1.        ]\n",
      " [ 27.87356322   0.9984375    0.9921875    1.        ]\n",
      " [ 28.16091954   0.996875     0.9921875    1.        ]\n",
      " [ 28.87931034   0.996875     0.984375     1.        ]\n",
      " [ 29.16666667   0.9984375    0.9921875    1.        ]\n",
      " [ 29.88505747   0.996875     0.9921875    1.        ]\n",
      " [ 30.17241379   1.           1.           1.        ]\n",
      " [ 30.8908046    0.99375      0.984375     1.        ]\n",
      " [ 31.17816092   0.996875     0.9921875    1.        ]\n",
      " [ 31.89655172   1.           1.           1.        ]\n",
      " [ 32.18390805   0.996875     0.984375     1.        ]\n",
      " [ 32.90229885   0.9984375    0.9921875    1.        ]\n",
      " [ 33.18965517   1.           1.           1.        ]\n",
      " [ 33.90804598   0.9984375    0.9921875    1.        ]\n",
      " [ 34.1954023    0.9953125    0.9921875    1.        ]\n",
      " [ 34.9137931    0.9984375    0.9921875    1.        ]\n",
      " [ 35.20114943   1.           1.           1.        ]\n",
      " [ 35.91954023   0.9984375    0.9921875    1.        ]\n",
      " [ 36.20689655   1.           1.           1.        ]\n",
      " [ 36.92528736   0.9984375    0.9921875    1.        ]\n",
      " [ 37.21264368   1.           1.           1.        ]\n",
      " [ 37.93103448   0.9984375    0.9921875    1.        ]\n",
      " [ 38.2183908    1.           1.           1.        ]\n",
      " [ 38.93678161   0.9953125    0.984375     1.        ]\n",
      " [ 39.22413793   1.           1.           1.        ]\n",
      " [ 39.94252874   0.9953125    0.984375     1.        ]\n",
      " [ 40.22988506   1.           1.           1.        ]\n",
      " [ 40.94827586   0.9984375    0.9921875    1.        ]\n",
      " [ 41.23563218   1.           1.           1.        ]\n",
      " [ 41.95402299   0.9984375    0.9921875    1.        ]\n",
      " [ 42.24137931   1.           1.           1.        ]\n",
      " [ 42.95977011   0.9984375    0.9921875    1.        ]\n",
      " [ 43.24712644   1.           1.           1.        ]\n",
      " [ 43.96551724   1.           1.           1.        ]\n",
      " [ 44.25287356   1.           1.           1.        ]\n",
      " [ 44.97126437   0.9984375    0.9921875    1.        ]\n",
      " [ 45.25862069   1.           1.           1.        ]\n",
      " [ 45.97701149   0.9984375    0.9921875    1.        ]\n",
      " [ 46.26436782   1.           1.           1.        ]\n",
      " [ 46.98275862   0.9984375    0.9921875    1.        ]\n",
      " [ 47.27011494   1.           1.           1.        ]\n",
      " [ 47.98850575   1.           1.           1.        ]\n",
      " [ 48.27586207   1.           1.           1.        ]\n",
      " [ 48.99425287   0.996875     0.9921875    1.        ]\n",
      " [ 49.2816092    1.           1.           1.        ]\n",
      " [ 50.           1.           1.           1.        ]]\n"
     ]
    }
   ],
   "source": [
    "res_dir = [y for x in os.walk('./icros-kfold/ResNet') for y in glob(os.path.join(x[0], '*accuracy*.csv'))]\n",
    "res_dir.sort()\n",
    "print(res_dir)\n",
    "\n",
    "data = {}\n",
    "for i in range(len(res_dir)):\n",
    "    temp = np.genfromtxt(res_dir[i], delimiter=',')\n",
    "    temp = temp[1:, 1:]\n",
    "    key_name = res_dir[i].split('/')[-2]\n",
    "    data[i] = temp\n",
    "\n",
    "    \n",
    "new_data = np.zeros((len(data.keys())+1, len(data[0])))\n",
    "print(new_data.shape)\n",
    "\n",
    "for i in range(new_data.shape[0]-1):\n",
    "    if i == 0:\n",
    "        new_data[0,:] = data[0][:,0] * (50/1392)\n",
    "        new_data[1,:] = data[0][:,1]\n",
    "    else:\n",
    "        new_data[i+1,:] = data[i][:,1]\n",
    "        \n",
    "res_data = np.zeros((new_data.shape[1], 4))\n",
    "res_data[:,0] = new_data[0,:]\n",
    "res_data[:,1] = np.mean(new_data[1:], axis=0)\n",
    "res_data[:,2] = np.min(new_data[1:], axis=0)\n",
    "res_data[:,3] = np.max(new_data[1:], axis=0)\n",
    "print(res_data)"
   ]
  },
  {
   "cell_type": "code",
   "execution_count": 8,
   "metadata": {
    "collapsed": true
   },
   "outputs": [],
   "source": [
    "#res_data[59,0] = 30\n",
    "#alex_data[59,0] = 30"
   ]
  },
  {
   "cell_type": "code",
   "execution_count": 9,
   "metadata": {
    "collapsed": false
   },
   "outputs": [
    {
     "name": "stdout",
     "output_type": "stream",
     "text": [
      "29.8850574713 29.8850574713\n"
     ]
    }
   ],
   "source": [
    "print(res_data[59,0], alex_data[59,0])"
   ]
  },
  {
   "cell_type": "code",
   "execution_count": 11,
   "metadata": {
    "collapsed": false
   },
   "outputs": [
    {
     "data": {
      "image/png": "[encoded data removed]",
      "text/plain": [
       "<matplotlib.figure.Figure at 0x256600749b0>"
      ]
     },
     "metadata": {},
     "output_type": "display_data"
    }
   ],
   "source": [
    "plt.style.use('grayscale')\n",
    "plt.plot(vgg_data[:,0], vgg_data[:,1], label='VGG-16')\n",
    "plt.plot(alex_data[:60,0], alex_data[:60,1], '--', label='AlexNet')\n",
    "plt.plot(res_data[:60,0], res_data[:60,1], label='ResNet')\n",
    "plt.legend(loc='lower right')\n",
    "plt.xlabel('Training Steps')\n",
    "plt.ylabel('Accuracy (%)')\n",
    "plt.title('5-Fold Cross Validation Average Accuracy')\n",
    "plt.ylim([0.4, 1.05])\n",
    "plt.show()\n"
   ]
  }
 ],
 "metadata": {
  "anaconda-cloud": {},
  "kernelspec": {
   "display_name": "Python [Root]",
   "language": "python",
   "name": "Python [Root]"
  },
  "language_info": {
   "codemirror_mode": {
    "name": "ipython",
    "version": 3
   },
   "file_extension": ".py",
   "mimetype": "text/x-python",
   "name": "python",
   "nbconvert_exporter": "python",
   "pygments_lexer": "ipython3",
   "version": "3.5.2"
  }
 },
 "nbformat": 4,
 "nbformat_minor": 2
}
