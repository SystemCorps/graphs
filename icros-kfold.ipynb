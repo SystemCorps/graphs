{
 "cells": [
  {
   "cell_type": "code",
   "execution_count": 2,
   "metadata": {},
   "outputs": [],
   "source": [
    "import numpy as np\n",
    "import matplotlib.pyplot as plt\n",
    "%matplotlib inline\n",
    "\n",
    "from glob import glob\n",
    "import os"
   ]
  },
  {
   "cell_type": "code",
   "execution_count": 6,
   "metadata": {
    "scrolled": true
   },
   "outputs": [
    {
     "name": "stdout",
     "output_type": "stream",
     "text": [
      "['./icros-kfold/VGG/run_eval-tag-accuracy-0.csv', './icros-kfold/VGG/run_eval-tag-accuracy-1.csv', './icros-kfold/VGG/run_eval-tag-accuracy-2.csv', './icros-kfold/VGG/run_eval-tag-accuracy-3.csv', './icros-kfold/VGG/run_eval-tag-accuracy-4.csv']\n"
     ]
    }
   ],
   "source": [
    "csv_dir = [y for x in os.walk('./') for y in glob(os.path.join(x[0], '*accuracy*.csv'))]\n",
    "csv_dir.sort()\n",
    "print(csv_dir)"
   ]
  },
  {
   "cell_type": "code",
   "execution_count": 20,
   "metadata": {
    "scrolled": false
   },
   "outputs": [
    {
     "name": "stdout",
     "output_type": "stream",
     "text": [
      "[ 115.  230.  345.  460.  575.  690.  805.  920. 1035. 1150. 1265. 1380.\n",
      " 1495. 1610. 1725. 1840. 1955. 2070. 2185. 2300. 2415. 2530. 2645. 2760.\n",
      " 2875. 2990. 3105. 3220. 3335. 3450.]\n",
      "[0.71271932 0.72587717 0.76973683 0.8256579  0.88048244 0.91118419\n",
      " 0.91447371 0.90350878 0.95614034 0.92982459 0.9725877  0.97368419\n",
      " 0.95833331 0.98135966 0.96162283 0.9780702  0.97587717 0.96820176\n",
      " 0.98355263 0.98793858 0.97368419 0.97916669 0.9868421  0.97587717\n",
      " 0.98355263 0.98245615 0.98464912 0.98245615 0.98245615 0.98793858]\n"
     ]
    }
   ],
   "source": [
    "test = np.genfromtxt(csv_dir[0], delimiter=',')\n",
    "test = test[1:]\n",
    "print(test[:,1])\n",
    "print(test[:,2])"
   ]
  },
  {
   "cell_type": "code",
   "execution_count": 16,
   "metadata": {
    "scrolled": true
   },
   "outputs": [
    {
     "data": {
      "image/png": "[encoded data removed]",
      "text/plain": [
       "<Figure size 432x288 with 1 Axes>"
      ]
     },
     "metadata": {},
     "output_type": "display_data"
    }
   ],
   "source": [
    "plt.plot(test[:,1], test[:,2])\n",
    "plt.xlabel('Training Steps')\n",
    "plt.ylabel('Accuracy (%)')\n",
    "plt.title('Validation Accuracy')\n",
    "plt.show()"
   ]
  },
  {
   "cell_type": "code",
   "execution_count": 44,
   "metadata": {},
   "outputs": [],
   "source": [
    "data = {}\n",
    "for i in range(len(csv_dir)):\n",
    "    temp = np.genfromtxt(csv_dir[i], delimiter=',')\n",
    "    temp = temp[1:, 1:]\n",
    "    key_name = csv_dir[i].split('/')[-2]\n",
    "    data[i] = temp\n",
    "    \n",
    "    "
   ]
  },
  {
   "cell_type": "code",
   "execution_count": 47,
   "metadata": {},
   "outputs": [
    {
     "name": "stdout",
     "output_type": "stream",
     "text": [
      "(6, 30)\n"
     ]
    }
   ],
   "source": [
    "new_data = np.zeros((len(data.keys())+1, len(data[0])))\n",
    "print(new_data.shape)\n",
    "\n",
    "for i in range(new_data.shape[0]-1):\n",
    "    if i == 0:\n",
    "        new_data[0,:] = data[0][:,0]\n",
    "        new_data[1,:] = data[0][:,1]\n",
    "    else:\n",
    "        new_data[i+1,:] = data[i][:,1]"
   ]
  }
 ],
 "metadata": {
  "kernelspec": {
   "display_name": "Python 3",
   "language": "python",
   "name": "python3"
  },
  "language_info": {
   "codemirror_mode": {
    "name": "ipython",
    "version": 3
   },
   "file_extension": ".py",
   "mimetype": "text/x-python",
   "name": "python",
   "nbconvert_exporter": "python",
   "pygments_lexer": "ipython3",
   "version": "3.6.4"
  }
 },
 "nbformat": 4,
 "nbformat_minor": 2
}
